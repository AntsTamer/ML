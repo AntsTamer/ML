{
 "cells": [
  {
   "cell_type": "markdown",
   "metadata": {},
   "source": [
    "### Importación de librerías"
   ]
  },
  {
   "cell_type": "code",
   "execution_count": 1,
   "metadata": {},
   "outputs": [],
   "source": [
    "#Libraria numpy\n",
    "import numpy as np #Incuye funciones de array"
   ]
  },
  {
   "cell_type": "markdown",
   "metadata": {},
   "source": [
    "### Algoritmo"
   ]
  },
  {
   "cell_type": "code",
   "execution_count": 143,
   "metadata": {},
   "outputs": [],
   "source": [
    "def sorter(data):\n",
    "    #Muestreo del array introducido\n",
    "    print(\"Array introducido: \", data, \"\\n\")\n",
    "    #Copiar datos\n",
    "    sortdata=data.copy()\n",
    "    #Logitud\n",
    "    datashape=data.shape[0]\n",
    "    #Comienzo de la organización de elemento por el segundo elemento\n",
    "    for i in range(1,datashape):\n",
    "        #valor de la posición de evalución copiada en variable auxiliar\n",
    "        aux=sortdata[i]\n",
    "        #C queda definida por el valor de i\n",
    "        c=i\n",
    "        counter=0\n",
    "        #Evaluación de la posición del array con todas las anteriores\n",
    "        for j in range(1,i+1):     \n",
    "            #El valor actual evaluado debe ser mayor al anterior\n",
    "            #En caso de que asi no se de en los datos de entrada cambiará su posición \n",
    "            #con la posición que guarda un menor valor en el array\n",
    "            if (sortdata[c]<sortdata[i-j]):\n",
    "                counter=counter+1\n",
    "                if counter==1:\n",
    "                    print (\"Valor\", sortdata[c], \"en la posición\", c+1, \"desordenado. Procedemos a ordenarlo.\")\n",
    "                print(sortdata[c], \"cambia su posición con\", sortdata[i-j] )\n",
    "                sortdata[c]=sortdata[c-1]\n",
    "                sortdata[c-1]=aux\n",
    "                c=i-j\n",
    "                print(sortdata,  \"\\n\")\n",
    "    #Sort array            \n",
    "    return sortdata\n",
    "    "
   ]
  },
  {
   "cell_type": "markdown",
   "metadata": {},
   "source": [
    "## Datos introducidos y llamada a la función"
   ]
  },
  {
   "cell_type": "code",
   "execution_count": 148,
   "metadata": {},
   "outputs": [
    {
     "name": "stdout",
     "output_type": "stream",
     "text": [
      "Array introducido:  [67 51 28  0 99] \n",
      "\n",
      "Valor 51 en la posición 2 desordenado. Procedemos a ordenarlo.\n",
      "51 cambia su posición con 67\n",
      "[51 67 28  0 99] \n",
      "\n",
      "Valor 28 en la posición 3 desordenado. Procedemos a ordenarlo.\n",
      "28 cambia su posición con 67\n",
      "[51 28 67  0 99] \n",
      "\n",
      "28 cambia su posición con 51\n",
      "[28 51 67  0 99] \n",
      "\n",
      "Valor 0 en la posición 4 desordenado. Procedemos a ordenarlo.\n",
      "0 cambia su posición con 67\n",
      "[28 51  0 67 99] \n",
      "\n",
      "0 cambia su posición con 51\n",
      "[28  0 51 67 99] \n",
      "\n",
      "0 cambia su posición con 28\n",
      "[ 0 28 51 67 99] \n",
      "\n",
      "Datos ordenados:  [ 0 28 51 67 99]\n"
     ]
    }
   ],
   "source": [
    "data=np.random.randint(100, size=5)\n",
    "print( \"Datos ordenados: \", sorter(data))"
   ]
  },
  {
   "cell_type": "code",
   "execution_count": null,
   "metadata": {},
   "outputs": [],
   "source": []
  }
 ],
 "metadata": {
  "kernelspec": {
   "display_name": "Python 3",
   "language": "python",
   "name": "python3"
  },
  "language_info": {
   "codemirror_mode": {
    "name": "ipython",
    "version": 3
   },
   "file_extension": ".py",
   "mimetype": "text/x-python",
   "name": "python",
   "nbconvert_exporter": "python",
   "pygments_lexer": "ipython3",
   "version": "3.7.1"
  }
 },
 "nbformat": 4,
 "nbformat_minor": 2
}
