{
 "cells": [
  {
   "cell_type": "markdown",
   "metadata": {},
   "source": [
    "Importación de librerías."
   ]
  },
  {
   "cell_type": "code",
   "execution_count": 1,
   "metadata": {},
   "outputs": [],
   "source": [
    "#Librerias\n",
    "import sklearn\n",
    "import numpy as np\n",
    "import pandas as pd\n",
    "import urllib.request\n",
    "import csv\n",
    "\n",
    "from sklearn.naive_bayes import BernoulliNB\n",
    "from sklearn.naive_bayes import GaussianNB\n",
    "from sklearn.naive_bayes import MultinomialNB\n",
    "\n",
    "from sklearn.model_selection import train_test_split\n",
    "\n",
    "from sklearn import metrics\n",
    "from sklearn.metrics import accuracy_score\n",
    "from sklearn.impute import SimpleImputer\n",
    "from sklearn.preprocessing import LabelEncoder"
   ]
  },
  {
   "cell_type": "markdown",
   "metadata": {},
   "source": [
    "Importación de datos."
   ]
  },
  {
   "cell_type": "code",
   "execution_count": 2,
   "metadata": {},
   "outputs": [],
   "source": [
    "#Tratamiento de datos\n",
    "s = \"house-votes-84.data\"   \n",
    "myfile = pd.read_csv(s,encoding = 'utf8',header = None,sep=\",\")\n",
    "\n",
    "names=[\"Class Name\", \"handicapped-infants\", \"water-project-cost-sharing\", \"adoption-of-the-budget-resolution\", \"physician-fee-freeze\", \"el-salvador-aid\", \"religious-groups-in-schools\", \"anti-satellite-test-ban\", \"aid-to-nicaraguan-contras\",\"mx-missile\", \"immigration\",\"synfuels-corporation-cutback\",\"education-spending\",\"superfund-right-to-sue\",\"crime\",\"duty-free-exports\",\"export-administration-act-south-africa\"]\n",
    "for i in range (0,myfile.shape[1]):\n",
    "    myfile.rename(columns={myfile.columns[i]:names[i]}, inplace = True)"
   ]
  },
  {
   "cell_type": "markdown",
   "metadata": {},
   "source": [
    "Tras leer los datos, los siguientes pasos serían:\n",
    "\n",
    "1. Transformar las variables categóricas a númericas (y:1,n:0), (demócratas:0, republicanos:0).\n",
    "2. Tratar los valores perdidos.\n",
    "   La estrategia de eliminar las filas con valores indefinidos nos hace perder demasiada información, dado que tenemos al rededor de 200 (46%) filas con valores perdidos.\n",
    "   Por ello, pasamos a tratar estos datos como el valor más repetido en la misma columna, es decir, el valor más frecuente en dicha carácteristica de los congresistas."
   ]
  },
  {
   "cell_type": "code",
   "execution_count": 3,
   "metadata": {},
   "outputs": [],
   "source": [
    "#Variables categoricas a numericas\n",
    "myfile.values[myfile.values==\"y\"]=1\n",
    "myfile.values[myfile.values==\"n\"]=0\n",
    "myfile.values[myfile.values==\"?\"]=np.nan\n",
    "\n",
    "#Codificar las variable dependiente\n",
    "labelencoder_X=LabelEncoder()\n",
    "myfile.values[:,0]=labelencoder_X.fit_transform(myfile.values[:,0])\n",
    "\n",
    "#Variables desconocidas\n",
    "imputer=SimpleImputer(missing_values=np.nan, strategy=\"median\")\n",
    "imputer.fit(myfile.values[:,1:17])\n",
    "myfile.values[:,1:17]=imputer.transform(myfile.values[:,1:17])"
   ]
  },
  {
   "cell_type": "markdown",
   "metadata": {},
   "source": [
    "Definimos los datos de entrenamiento y test de nuestro modelo.\n",
    "Elegimos el 75%de los datos como datos de test y 25% como dato de entremaiento."
   ]
  },
  {
   "cell_type": "code",
   "execution_count": 4,
   "metadata": {},
   "outputs": [],
   "source": [
    "#Definir variables independientes e independientes\n",
    "X=myfile.values[:,1:myfile.shape[1]]\n",
    "y=myfile.values[:,0]\n",
    "#Dividir datos de entrenamiento y test\n",
    "X_train,X_test,y_train,y_test=train_test_split(X,y,test_size=.25)\n",
    "\n",
    "X_train = X_train.astype(np.float64)\n",
    "y_train = y_train.astype(np.float64)\n",
    "X_test = X_test.astype(np.float64)\n",
    "y_test = y_test.astype(np.float64)"
   ]
  },
  {
   "cell_type": "markdown",
   "metadata": {},
   "source": [
    "Se realizan pruebas con el modelo de Bernouilli y el de Gaus.\n",
    "Se imprime por pantalla el modelo de Gaus por mayor calidad en el modelo y datos predecidos. "
   ]
  },
  {
   "cell_type": "code",
   "execution_count": 5,
   "metadata": {},
   "outputs": [
    {
     "name": "stdout",
     "output_type": "stream",
     "text": [
      "GaussianNB(priors=None, var_smoothing=1e-09)\n",
      "Precisión:  0.944954128440367\n",
      "              precision    recall  f1-score   support\n",
      "\n",
      "         0.0       0.95      0.95      0.95        61\n",
      "         1.0       0.94      0.94      0.94        48\n",
      "\n",
      "   micro avg       0.94      0.94      0.94       109\n",
      "   macro avg       0.94      0.94      0.94       109\n",
      "weighted avg       0.94      0.94      0.94       109\n",
      "\n",
      "[[58  3]\n",
      " [ 3 45]] \n",
      "\n"
     ]
    }
   ],
   "source": [
    "#Modelos\n",
    "\n",
    "#Gaus\n",
    "GausNB=GaussianNB()\n",
    "GausNB.fit(X_train, y_train)\n",
    "print(GausNB)\n",
    "y_pred= GausNB.predict(X_test)\n",
    "gausac=accuracy_score(y_test,y_pred)\n",
    "print(\"Precisión: \", gausac)\n",
    "print(metrics.classification_report(y_test,y_pred))\n",
    "print(metrics.confusion_matrix(y_test,y_pred),\"\\n\")\n",
    "\n",
    "#Bernoulli\n",
    "#BernNB=BernoulliNB(binarize=True)\n",
    "#BernNB.fit(X_train, y_train)\n",
    "#print(BernNB)\n",
    "#y_pred=BernNB.predict(X_test)\n",
    "#bernac=accuracy_score(y_test, y_pred)\n",
    "#print(\"Precision: \", bernac)\n",
    "#print(metrics.classification_report(y_test,y_pred))\n",
    "#print(metrics.confusion_matrix(y_test,y_pred))"
   ]
  }
 ],
 "metadata": {
  "kernelspec": {
   "display_name": "Python 3",
   "language": "python",
   "name": "python3"
  },
  "language_info": {
   "codemirror_mode": {
    "name": "ipython",
    "version": 3
   },
   "file_extension": ".py",
   "mimetype": "text/x-python",
   "name": "python",
   "nbconvert_exporter": "python",
   "pygments_lexer": "ipython3",
   "version": "3.7.1"
  }
 },
 "nbformat": 4,
 "nbformat_minor": 2
}
